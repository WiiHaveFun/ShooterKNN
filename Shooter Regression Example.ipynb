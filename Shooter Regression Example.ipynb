{
 "cells": [
  {
   "cell_type": "markdown",
   "metadata": {},
   "source": [
    "## Example using MultiOutput"
   ]
  },
  {
   "cell_type": "code",
   "execution_count": 1,
   "metadata": {},
   "outputs": [
    {
     "name": "stdout",
     "output_type": "stream",
     "text": [
      "[[3300.           60.        ]\n",
      " [3279.5221843    57.78156997]\n",
      " [3300.           56.4137931 ]\n",
      " [3300.           55.79735683]\n",
      " [3300.           54.90834473]\n",
      " [3300.           54.        ]\n",
      " [3359.05511811   53.34645669]\n",
      " [3426.92307692   52.84615385]\n",
      " [3600.           53.        ]\n",
      " [3600.           52.        ]\n",
      " [3600.           51.        ]\n",
      " [3700.           51.        ]\n",
      " [3709.18918919   50.26486486]\n",
      " [3732.14285714   50.07142857]\n",
      " [3790.625        49.83333333]\n",
      " [3800.           49.        ]\n",
      " [3867.5          48.8       ]\n",
      " [3903.125        48.3125    ]\n",
      " [3914.81481481   47.88888889]\n",
      " [3900.           47.        ]\n",
      " [4100.           47.        ]\n",
      " [4159.25925926   47.        ]\n",
      " [4221.875        46.9375    ]\n",
      " [4259.25925926   46.88888889]\n",
      " [4400.           47.        ]\n",
      " [4400.           46.        ]\n",
      " [4500.           46.        ]\n",
      " [4544.           46.        ]\n",
      " [4567.44186047   45.93023256]\n",
      " [4626.66666667   45.5       ]\n",
      " [4700.           45.        ]\n",
      " [4714.05750799   45.2172524 ]\n",
      " [4788.93905192   45.0993228 ]\n",
      " [4800.           45.        ]\n",
      " [4906.78851175   43.90339426]\n",
      " [4900.           45.        ]]\n"
     ]
    }
   ],
   "source": [
    "from sklearn.neighbors import KNeighborsRegressor\n",
    "from sklearn.multioutput import MultiOutputRegressor\n",
    "import numpy as np\n",
    "import pickle\n",
    "\n",
    "\n",
    "# Distance dataset\n",
    "# Input (meters)\n",
    "distance = np.array([[2.0], [2.25], [2.5], [2.75], [3.0], [3.25], [3.5], [3.7], \n",
    "                     [4.0], [4.3], [4.6], [4.8], [5.0], [5.2], [5.5], [5.75], \n",
    "                     [6.0], [6.3], [6.5], [6.8], [7.0], [7.3], [7.5], [7.8], \n",
    "                     [8.0], [8.2], [8.5], [9.0], [9.6], [10.0], [10.5], [10.8]])\n",
    "\n",
    "# Output\n",
    "# Shooter speed (RPM), Hood angle (deg)\n",
    "output = np.array([[3000, 80], [3000, 75], [3000, 70], [3000, 65], [3300, 60], [3300, 57], [3300, 56], [3300, 55], \n",
    "                   [3300, 54], [3300, 53], [3600, 53], [3600, 52], [3600, 51], [3700, 51], [3700, 50], [3800, 50], \n",
    "                   [3800, 49], [3900, 49], [3900, 48], [3900, 47], [4100, 47], [4200, 47], [4200, 47], [4400, 47], \n",
    "                   [4400, 46], [4500, 46], [4600, 46], [4700, 45], [4800, 45], [4900, 45], [5000, 45], [5600, 30]])\n",
    "\n",
    "# Verification set\n",
    "distance2 = np.array([[3.0], [3.2], [3.4], [3.6], [3.8], [4.0], [4.2], [4.4], [4.6], \n",
    "                      [4.8], [5.0], [5.2], [5.4], [5.6], [5.8], [6.0], [6.2], [6.4], \n",
    "                      [6.6], [6.8], [7.0], [7.2], [7.4], [7.6], [7.8], [8.0], [8.2], \n",
    "                      [8.4], [8.6], [8.8], [9.0], [9.2], [9.4], [9.6], [9.8], [10.0]])\n",
    "\n",
    "knn = KNeighborsRegressor(n_neighbors=5, weights='distance', algorithm='auto', \n",
    "                          leaf_size=30, p=2, metric='minkowski', metric_params=None, \n",
    "                          n_jobs=None)\n",
    "\n",
    "regr = MultiOutputRegressor(knn)\n",
    "\n",
    "regr.fit(distance, output)\n",
    "\n",
    "output2 = regr.predict(distance2)\n",
    "\n",
    "print(output2)\n",
    "\n",
    "filename = 'shooterModel.sav'\n",
    "pickle.dump(regr, open(filename, 'wb'))"
   ]
  },
  {
   "cell_type": "code",
   "execution_count": 2,
   "metadata": {
    "scrolled": false
   },
   "outputs": [
    {
     "data": {
      "text/plain": [
       "<matplotlib.legend.Legend at 0x7fbc5fd1d4a8>"
      ]
     },
     "execution_count": 2,
     "metadata": {},
     "output_type": "execute_result"
    },
    {
     "data": {
      "image/png": "[encoded data removed]",
      "text/plain": [
       "<Figure size 432x288 with 1 Axes>"
      ]
     },
     "metadata": {
      "needs_background": "light"
     },
     "output_type": "display_data"
    },
    {
     "data": {
      "image/png": "[encoded data removed]",
      "text/plain": [
       "<Figure size 432x288 with 1 Axes>"
      ]
     },
     "metadata": {
      "needs_background": "light"
     },
     "output_type": "display_data"
    }
   ],
   "source": [
    "import matplotlib\n",
    "matplotlib.use('Qt5agg')\n",
    "import matplotlib.pyplot as plt\n",
    "%matplotlib inline\n",
    "\n",
    "_, plt1 = plt.subplots()\n",
    "\n",
    "plt1.plot(distance, output[:,0])\n",
    "plt1.plot(distance2, output2[:,0])\n",
    "plt1.legend([\"Training Data\", \"Output\"])\n",
    "\n",
    "_, plt2 = plt.subplots()\n",
    "\n",
    "plt2.plot(distance, output[:,1])\n",
    "plt2.plot(distance2, output2[:,1])\n",
    "plt1.legend([\"Training Data\", \"Output\"])"
   ]
  }
 ],
 "metadata": {
  "kernelspec": {
   "display_name": "Python 3",
   "language": "python",
   "name": "python3"
  },
  "language_info": {
   "codemirror_mode": {
    "name": "ipython",
    "version": 3
   },
   "file_extension": ".py",
   "mimetype": "text/x-python",
   "name": "python",
   "nbconvert_exporter": "python",
   "pygments_lexer": "ipython3",
   "version": "3.6.6"
  },
  "widgets": {
   "state": {},
   "version": "1.1.2"
  }
 },
 "nbformat": 4,
 "nbformat_minor": 2
}
