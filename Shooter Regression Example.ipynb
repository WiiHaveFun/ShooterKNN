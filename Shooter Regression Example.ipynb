{
 "cells": [
  {
   "cell_type": "markdown",
   "metadata": {},
   "source": [
    "## Example using MultiOutput"
   ]
  },
  {
   "cell_type": "code",
   "execution_count": 2,
   "metadata": {},
   "outputs": [
    {
     "name": "stdout",
     "output_type": "stream",
     "text": [
      "[[2592.10526316 1355.78947368]\n",
      " [2631.48148148 1327.11111111]\n",
      " [2667.85714286 1312.07142857]\n",
      " [2704.16666667 1298.16666667]\n",
      " [2745.83333333 1229.83333333]\n",
      " [2795.         1204.1       ]\n",
      " [2830.         1182.8       ]\n",
      " [2900.         1137.66666667]\n",
      " [2981.25       1085.125     ]\n",
      " [3050.         1046.5       ]\n",
      " [3091.66666667 1024.41666667]\n",
      " [3140.          956.4       ]\n",
      " [3214.28571429  846.14285714]\n",
      " [3280.          777.8       ]\n",
      " [3361.53846154  657.30769231]\n",
      " [3464.51612903  558.5483871 ]\n",
      " [3609.52380952  474.76190476]\n",
      " [3800.          330.        ]\n",
      " [4107.69230769  145.38461538]\n",
      " [4280.           54.        ]]\n"
     ]
    }
   ],
   "source": [
    "from sklearn.neighbors import KNeighborsRegressor\n",
    "from sklearn.multioutput import MultiOutputRegressor\n",
    "import numpy as np\n",
    "import pickle\n",
    "\n",
    "\n",
    "# Distance dataset\n",
    "# Input (meters)\n",
    "# distance = np.array([[2.0], [2.25], [2.5], [2.75], [3.0], [3.25], [3.5], [3.7], \n",
    "#                      [4.0], [4.3], [4.6], [4.8], [5.0], [5.2], [5.5], [5.75], \n",
    "#                      [6.0], [6.3], [6.5], [6.8], [7.0], [7.3], [7.5], [7.8], \n",
    "#                      [8.0], [8.2], [8.5], [9.0], [9.6], [10.0], [10.5], [10.8]])\n",
    "\n",
    "distance = np.array([[1.80], [2.00], [2.21], [2.42], [2.61], [2.84],\n",
    "                     [3.03], [3.30], [3.58], [3.82], [4.02], [4.32],\n",
    "                     [4.56], [5.04], [5.44], [5.64], [5.90], [6.21],\n",
    "                     [6.40], [6.66], [7.01]])\n",
    "\n",
    "\n",
    "\n",
    "# Output\n",
    "# Shooter speed (RPM), Hood angle (deg)\n",
    "# output = np.array([[3000, 80], [3000, 75], [3000, 70], [3000, 65], [3300, 60], [3300, 57], [3300, 56], [3300, 55], \n",
    "#                    [3300, 54], [3300, 53], [3600, 53], [3600, 52], [3600, 51], [3700, 51], [3700, 50], [3800, 50], \n",
    "#                    [3800, 49], [3900, 49], [3900, 48], [3900, 47], [4100, 47], [4200, 47], [4200, 47], [4400, 47], \n",
    "#                    [4400, 46], [4500, 46], [4600, 46], [4700, 45], [4800, 45], [4900, 45], [5000, 45], [5600, 30]])\n",
    "\n",
    "output = np.array([[2300, 1648], [2350, 1670], [2400, 1590], [2450, 1508], [2500, 1452], [2550, 1408],\n",
    "                   [2600, 1346], [2650, 1316], [2700, 1305], [2750, 1223], [2800, 1202], [2850, 1170],\n",
    "                   [3000, 1073], [3100, 1020], [3200, 861],  [3300, 757],  [3400, 595],  [3600, 482],\n",
    "                   [3800, 330],  [4200, 90],   [4400, 0]])\n",
    "\n",
    "\n",
    "# Verification set\n",
    "# distance2 = np.array([[3.0], [3.2], [3.4], [3.6], [3.8], [4.0], [4.2], [4.4], [4.6], \n",
    "#                       [4.8], [5.0], [5.2], [5.4], [5.6], [5.8], [6.0], [6.2], [6.4], \n",
    "#                       [6.6], [6.8], [7.0], [7.2], [7.4], [7.6], [7.8], [8.0], [8.2], \n",
    "#                       [8.4], [8.6], [8.8], [9.0], [9.2], [9.4], [9.6], [9.8], [10.0]])\n",
    "\n",
    "distance2 = np.array([[3.0], [3.2], [3.4], [3.6], [3.8], [4.0], [4.2], [4.4], [4.6], \n",
    "                      [4.8], [5.0], [5.2], [5.4], [5.6], [5.8], [6.0], [6.2], [6.4], \n",
    "                      [6.6], [6.8]])\n",
    "\n",
    "knn = KNeighborsRegressor(n_neighbors=2, weights='distance', algorithm='auto', \n",
    "                          leaf_size=30, p=2, metric='minkowski', metric_params=None, \n",
    "                          n_jobs=None)\n",
    "\n",
    "regr = MultiOutputRegressor(knn)\n",
    "\n",
    "regr.fit(distance, output)\n",
    "\n",
    "output2 = regr.predict(distance2)\n",
    "\n",
    "print(output2)\n",
    "\n",
    "filename = 'shooterModel.sav'\n",
    "pickle.dump(regr, open(filename, 'wb'))"
   ]
  },
  {
   "cell_type": "code",
   "execution_count": 3,
   "metadata": {
    "scrolled": false
   },
   "outputs": [
    {
     "data": {
      "text/plain": [
       "<matplotlib.legend.Legend at 0x7fc43f6c4cc0>"
      ]
     },
     "execution_count": 3,
     "metadata": {},
     "output_type": "execute_result"
    },
    {
     "data": {
      "image/png": "[encoded data removed]",
      "text/plain": [
       "<Figure size 432x288 with 1 Axes>"
      ]
     },
     "metadata": {
      "needs_background": "light"
     },
     "output_type": "display_data"
    },
    {
     "data": {
      "image/png": "[encoded data removed]",
      "text/plain": [
       "<Figure size 432x288 with 1 Axes>"
      ]
     },
     "metadata": {
      "needs_background": "light"
     },
     "output_type": "display_data"
    }
   ],
   "source": [
    "import matplotlib\n",
    "matplotlib.use('Qt5agg')\n",
    "import matplotlib.pyplot as plt\n",
    "%matplotlib inline\n",
    "\n",
    "_, plt1 = plt.subplots()\n",
    "\n",
    "plt1.plot(distance, output[:,0])\n",
    "plt1.plot(distance2, output2[:,0])\n",
    "plt1.legend([\"Training Data\", \"Output\"])\n",
    "\n",
    "_, plt2 = plt.subplots()\n",
    "\n",
    "plt2.plot(distance, output[:,1])\n",
    "plt2.plot(distance2, output2[:,1])\n",
    "plt1.legend([\"Training Data\", \"Output\"])"
   ]
  },
  {
   "cell_type": "code",
   "execution_count": null,
   "metadata": {},
   "outputs": [],
   "source": []
  }
 ],
 "metadata": {
  "kernelspec": {
   "display_name": "Python 3",
   "language": "python",
   "name": "python3"
  },
  "language_info": {
   "codemirror_mode": {
    "name": "ipython",
    "version": 3
   },
   "file_extension": ".py",
   "mimetype": "text/x-python",
   "name": "python",
   "nbconvert_exporter": "python",
   "pygments_lexer": "ipython3",
   "version": "3.7.1"
  },
  "widgets": {
   "state": {},
   "version": "1.1.2"
  }
 },
 "nbformat": 4,
 "nbformat_minor": 2
}
